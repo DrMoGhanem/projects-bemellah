{
 "cells": [
  {
   "cell_type": "markdown",
   "metadata": {},
   "source": [
    "# Anatomical segmentation of aorta with 3D U-net"
   ]
  },
  {
   "cell_type": "code",
   "execution_count": 1,
   "metadata": {},
   "outputs": [
    {
     "name": "stderr",
     "output_type": "stream",
     "text": [
      "Using TensorFlow backend.\n"
     ]
    }
   ],
   "source": [
    "import numpy as np\n",
    "import os\n",
    "\n",
    "from PIL import Image\n",
    "import SimpleITK as sitk\n",
    "from skimage.transform import resize\n",
    "from skimage.morphology import binary_erosion\n",
    "from skimage.measure import label, regionprops_table\n",
    "import scipy\n",
    "\n",
    "import keras\n",
    "from keras.models import load_model\n",
    "from keras.layers import Input, Dense, Conv3D, MaxPooling3D, UpSampling3D, Conv3DTranspose, concatenate\n",
    "from keras.models import Model\n",
    "from keras.callbacks import EarlyStopping, ModelCheckpoint\n",
    "from keras.optimizers import Adam\n",
    "from keras import backend as K\n",
    "from keras import metrics\n",
    "from keras import optimizers\n",
    "from skimage import io\n",
    "\n",
    "import tensorflow as tf\n",
    "\n",
    "# Ignore warnings\n",
    "import warnings\n",
    "warnings.filterwarnings(\"ignore\")"
   ]
  },
  {
   "cell_type": "markdown",
   "metadata": {},
   "source": [
    "### Set up the model"
   ]
  },
  {
   "cell_type": "code",
   "execution_count": 3,
   "metadata": {},
   "outputs": [],
   "source": [
    "def dice_coef(y_true, y_pred):\n",
    "    \n",
    "    y_true_1 = K.flatten(y_true[:,:,:,:,0])\n",
    "    y_pred_1 = K.flatten(y_pred[:,:,:,:,0])\n",
    "    d_1 = (2 * K.sum(y_true_1 * y_pred_1) +1 )/ (K.sum(y_true_1) + K.sum(y_pred_1) + 1)\n",
    "    \n",
    "    y_true_2 = K.flatten(y_true[:,:,:,:,1])\n",
    "    y_pred_2 = K.flatten(y_pred[:,:,:,:,1])\n",
    "    d_2 = (2 * K.sum(y_true_2 * y_pred_2) +1 )/ (K.sum(y_true_2) + K.sum(y_pred_2) + 1)\n",
    "    \n",
    "    y_true_3 = K.flatten(y_true[:,:,:,:,2])\n",
    "    y_pred_3 = K.flatten(y_pred[:,:,:,:,2])\n",
    "    d_3 = (2 * K.sum(y_true_3 * y_pred_3) +1 )/ (K.sum(y_true_3) + K.sum(y_pred_3) + 1)\n",
    "    \n",
    "    y_true_4 = K.flatten(y_true[:,:,:,:,3])\n",
    "    y_pred_4 = K.flatten(y_pred[:,:,:,:,3])\n",
    "    d_4 = (2 * K.sum(y_true_4 * y_pred_4) +1 )/ (K.sum(y_true_4) + K.sum(y_pred_4) + 1)\n",
    "    \n",
    "    y_true_5 = K.flatten(y_true[:,:,:,:,4])\n",
    "    y_pred_5 = K.flatten(y_pred[:,:,:,:,4])\n",
    "    d_5 = (2 * K.sum(y_true_5 * y_pred_5) +1 )/ (K.sum(y_true_5) + K.sum(y_pred_5) + 1)\n",
    "    \n",
    "    y_true_6 = K.flatten(y_true[:,:,:,:,5])\n",
    "    y_pred_6 = K.flatten(y_pred[:,:,:,:,5])\n",
    "    d_6 = (2 * K.sum(y_true_6 * y_pred_6) +1 )/ (K.sum(y_true_6) + K.sum(y_pred_6) + 1)\n",
    "    \n",
    "    return (d_1+d_2+d_3+d_4+d_5+d_6)/6.0\n",
    "def dice_coef_loss(y_true, y_pred):\n",
    "    return 1-dice_coef(y_true, y_pred)\n",
    "inputs = Input((None,None,None, 1))\n",
    "conv1 = Conv3D(32, (3, 3, 3), activation='relu', padding='same')(inputs)\n",
    "conv1 = Conv3D(32, (3, 3, 3), activation='relu', padding='same')(conv1)\n",
    "pool1 = MaxPooling3D(pool_size=(2, 2, 2))(conv1)\n",
    "conv2 = Conv3D(64, (3, 3, 3), activation='relu', padding='same')(pool1)\n",
    "conv2 = Conv3D(64, (3, 3, 3), activation='relu', padding='same')(conv2)\n",
    "pool2 = MaxPooling3D(pool_size=(2, 2, 2))(conv2)\n",
    "conv3 = Conv3D(128, (3, 3, 3), activation='relu', padding='same')(pool2)\n",
    "conv3 = Conv3D(128, (3, 3, 3), activation='relu', padding='same')(conv3)\n",
    "pool3 = MaxPooling3D(pool_size=(2, 2, 2))(conv3)\n",
    "conv4 = Conv3D(256, (3, 3, 3), activation='relu', padding='same')(pool3)\n",
    "conv4 = Conv3D(256, (3, 3, 3), activation='relu', padding='same')(conv4)\n",
    "pool4 = MaxPooling3D(pool_size=(2, 2, 2))(conv4)\n",
    "conv5 = Conv3D(512, (3, 3, 3), activation='relu', padding='same')(pool4)\n",
    "conv5 = Conv3D(512, (3, 3, 3), activation='relu', padding='same')(conv5)\n",
    "\n",
    "up6 = concatenate([Conv3DTranspose(256, (2, 2, 2), strides=(2, 2, 2), padding='same')(conv5), conv4], axis=4)\n",
    "conv6 = Conv3D(256, (3, 3, 3), activation='relu', padding='same')(up6)\n",
    "conv6 = Conv3D(256, (3, 3, 3), activation='relu', padding='same')(conv6)\n",
    "up7 = concatenate([Conv3DTranspose(128, (2, 2, 2), strides=(2, 2, 2), padding='same')(conv6), conv3], axis=4)\n",
    "conv7 = Conv3D(128, (3, 3, 3), activation='relu', padding='same')(up7)\n",
    "conv7 = Conv3D(128, (3, 3, 3), activation='relu', padding='same')(conv7)\n",
    "up8 = concatenate([Conv3DTranspose(64, (2, 2, 2), strides=(2, 2, 2), padding='same')(conv7), conv2], axis=4)\n",
    "conv8 = Conv3D(64, (3, 3, 3), activation='relu', padding='same')(up8)\n",
    "conv8 = Conv3D(64, (3, 3, 3), activation='relu', padding='same')(conv8)\n",
    "up9 = concatenate([Conv3DTranspose(32, (2, 2, 2), strides=(2, 2, 2), padding='same')(conv8), conv1], axis=4)\n",
    "conv9 = Conv3D(32, (3, 3, 3), activation='relu', padding='same')(up9)\n",
    "conv9 = Conv3D(32, (3, 3, 3), activation='relu', padding='same')(conv9)\n",
    "conv10 = Conv3D(6, (3, 3, 3), activation='sigmoid', padding='same')(conv9)\n",
    "\n",
    "model = Model(inputs=[inputs], outputs=[conv10])\n",
    "model.compile(optimizer=Adam(lr = 0.00001), loss=dice_coef_loss, metrics=[dice_coef])"
   ]
  },
  {
   "cell_type": "code",
   "execution_count": 4,
   "metadata": {},
   "outputs": [],
   "source": [
    "def dice_c(y_true, y_pred):\n",
    "    \n",
    "    y_true_1 = y_true.flatten()\n",
    "    y_pred_1 = y_pred.flatten()\n",
    "    d_1 = (2 * np.sum(y_true_1 * y_pred_1) +1 )/ (np.sum(y_true_1) + np.sum(y_pred_1) + 1)\n",
    "    \n",
    "    return d_1"
   ]
  },
  {
   "cell_type": "markdown",
   "metadata": {},
   "source": [
    "### Post processing of predictions:"
   ]
  },
  {
   "cell_type": "code",
   "execution_count": 5,
   "metadata": {},
   "outputs": [],
   "source": [
    "def post_process(model_weights,aorta,atlas):\n",
    "    # read aorta:\n",
    "    im = sitk.ReadImage(aorta)\n",
    "    im = sitk.GetArrayFromImage(im)\n",
    "\n",
    "    aorta=np.copy(im)\n",
    "    aorta[aorta>0.0]=1.0\n",
    "\n",
    "    # downsize:\n",
    "    im=resize(im,(64,64,64),1,preserve_range=True)\n",
    "\n",
    "    # binarize:\n",
    "    im[im>0]=1.0\n",
    "\n",
    "    #im=np.reshape(im,(1,96,64,32,1))\n",
    "    im=np.reshape(im,(1,64,64,64,1))\n",
    "    \n",
    "    model.load_weights(model_weights)\n",
    "    pred=model.predict(im, batch_size=1)\n",
    "    \n",
    "    seg=np.copy(pred[0,:,:,:,:])\n",
    "    seg[seg>=0.5]=1.0\n",
    "    seg[seg<0.5]=0.0\n",
    "\n",
    "    seg[:,:,:,0]=binary_erosion(seg[:,:,:,0])\n",
    "    seg[:,:,:,1]=binary_erosion(seg[:,:,:,1])\n",
    "    seg[:,:,:,2]=binary_erosion(seg[:,:,:,2])\n",
    "    seg[:,:,:,3]=binary_erosion(seg[:,:,:,3])\n",
    "    seg[:,:,:,4]=binary_erosion(seg[:,:,:,4])\n",
    "    seg[:,:,:,5]=binary_erosion(seg[:,:,:,5])\n",
    "\n",
    "    # enlarge:\n",
    "    seg=resize(seg,(300, 260, 190,6),1,preserve_range=True)\n",
    "    seg[seg>=0.5]=1.0\n",
    "    seg[seg<0.5]=0.0\n",
    "\n",
    "    # remove predictions outside aorta:\n",
    "    aorta=aorta.reshape((aorta.shape[0],aorta.shape[1],aorta.shape[2],1))\n",
    "    seg=np.multiply(seg,aorta)\n",
    "    aorta=aorta.reshape((aorta.shape[0],aorta.shape[1],aorta.shape[2]))\n",
    "\n",
    "    # keep only largest connected component (excluding the unlabelled part of the aorta):\n",
    "    for i in range(0,5):\n",
    "        l_im=label(seg[:,:,:,i])\n",
    "        try:\n",
    "            rp=regionprops_table(l_im,properties=('label','area'))\n",
    "            l=rp['label'][np.argmax(rp['area'])]\n",
    "            l_im[l_im!=l]=0.0\n",
    "            l_im[l_im==l]=1.0\n",
    "\n",
    "            seg[:,:,:,i]=l_im\n",
    "        except:\n",
    "            pass\n",
    "\n",
    "    # set overlapping points to zero:\n",
    "    tmp=np.sum(seg,axis=3)\n",
    "    tmp[tmp==1.0]=100\n",
    "    tmp[tmp<100]=1\n",
    "    tmp[tmp==100]=0\n",
    "\n",
    "    idx=scipy.ndimage.morphology.distance_transform_edt(tmp,return_distances=False,return_indices=True)\n",
    "\n",
    "    # label points:\n",
    "    label_img=np.zeros(aorta.shape)\n",
    "\n",
    "    label_img += 1*seg[:,:,:,0]\n",
    "    label_img += 2*seg[:,:,:,1]\n",
    "    label_img += 3*seg[:,:,:,2]\n",
    "    label_img += 4*seg[:,:,:,3]\n",
    "    label_img += 5*seg[:,:,:,4]\n",
    "    label_img += 6*seg[:,:,:,5]\n",
    "\n",
    "    # set overlapping points to zero:\n",
    "    tmp=np.sum(seg,axis=3)\n",
    "    tmp[tmp>1.0]=10\n",
    "    tmp[tmp<10]=1\n",
    "    tmp[tmp==10]=0\n",
    "\n",
    "    label_img = np.multiply(label_img,tmp)\n",
    "\n",
    "    # fill in nearest neighbour values:\n",
    "    for x in range(0,aorta.shape[0]):\n",
    "        for y in range(0,aorta.shape[1]):\n",
    "            for z in range(0,aorta.shape[2]):\n",
    "                if label_img[x,y,z]==0:\n",
    "                    i=idx[:,x,y,z]\n",
    "                    label_img[x,y,z]=label_img[i[0],i[1],i[2]]\n",
    "\n",
    "    # set background to zero:\n",
    "    final_seg=np.multiply(label_img,aorta)\n",
    "    \n",
    "    # read atlas:\n",
    "    a = sitk.ReadImage(atlas)\n",
    "    a = sitk.GetArrayFromImage(a)\n",
    "\n",
    "    # separate classes:\n",
    "    ano=np.zeros((300,260,190,6))\n",
    "\n",
    "    for i in range(0,6):\n",
    "        tmp=np.zeros(a.shape)\n",
    "        tmp[np.where(a==i+1)]=1.0\n",
    "        ano[:,:,:,i]=tmp\n",
    "    \n",
    "    # separate classes:\n",
    "    p=np.zeros((300,260,190,6))\n",
    "\n",
    "    for i in range(0,6):\n",
    "        tmp=np.zeros(final_seg.shape)\n",
    "        tmp[np.where(final_seg==i+1)]=1.0\n",
    "        p[:,:,:,i]=tmp\n",
    "    # calculate dice:\n",
    "    dice=dice_c(ano,p)\n",
    "    \n",
    "    return final_seg, dice"
   ]
  },
  {
   "cell_type": "markdown",
   "metadata": {},
   "source": [
    "### Apply prediction and post processing to an aorta:"
   ]
  },
  {
   "cell_type": "code",
   "execution_count": 6,
   "metadata": {},
   "outputs": [],
   "source": [
    "s,d=post_process(model_weights=\"../models/aorta_3d_model_weights.hdf5\",aorta=\"../data/ID20_aorta.nii.gz\",atlas=\"../data/ID20_atlas.nii.gz\")"
   ]
  },
  {
   "cell_type": "code",
   "execution_count": 7,
   "metadata": {},
   "outputs": [
    {
     "name": "stdout",
     "output_type": "stream",
     "text": [
      "Dice coefficient: 0.8568815552378631\n"
     ]
    }
   ],
   "source": [
    "print(\"Dice coefficient: \" + str(d))"
   ]
  },
  {
   "cell_type": "code",
   "execution_count": null,
   "metadata": {},
   "outputs": [],
   "source": []
  }
 ],
 "metadata": {
  "kernelspec": {
   "display_name": "venv_4_python3",
   "language": "python",
   "name": "venv_4_python3"
  },
  "language_info": {
   "codemirror_mode": {
    "name": "ipython",
    "version": 3
   },
   "file_extension": ".py",
   "mimetype": "text/x-python",
   "name": "python",
   "nbconvert_exporter": "python",
   "pygments_lexer": "ipython3",
   "version": "3.6.8"
  }
 },
 "nbformat": 4,
 "nbformat_minor": 2
}
